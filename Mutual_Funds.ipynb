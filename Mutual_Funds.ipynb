{
  "nbformat": 4,
  "nbformat_minor": 0,
  "metadata": {
    "colab": {
      "name": "Mutual Funds.ipynb",
      "provenance": [],
      "authorship_tag": "ABX9TyMWNsI1qUlblAzFxEKk1EZe",
      "include_colab_link": true
    },
    "kernelspec": {
      "name": "python3",
      "display_name": "Python 3"
    }
  },
  "cells": [
    {
      "cell_type": "markdown",
      "metadata": {
        "id": "view-in-github",
        "colab_type": "text"
      },
      "source": [
        "<a href=\"https://colab.research.google.com/github/memetics19/Mutual_funds-model/blob/master/Mutual_Funds.ipynb\" target=\"_parent\"><img src=\"https://colab.research.google.com/assets/colab-badge.svg\" alt=\"Open In Colab\"/></a>"
      ]
    },
    {
      "cell_type": "code",
      "metadata": {
        "id": "X3mFFxwXwg_k",
        "colab_type": "code",
        "colab": {}
      },
      "source": [
        "import pandas as pd \n"
      ],
      "execution_count": 0,
      "outputs": []
    },
    {
      "cell_type": "code",
      "metadata": {
        "id": "PUyW0uhIxFAO",
        "colab_type": "code",
        "colab": {}
      },
      "source": [
        "df=pd.read_csv(\"data.csv\")"
      ],
      "execution_count": 0,
      "outputs": []
    },
    {
      "cell_type": "code",
      "metadata": {
        "id": "VmIT26hbxAZ5",
        "colab_type": "code",
        "colab": {
          "base_uri": "https://localhost:8080/",
          "height": 246
        },
        "outputId": "59c58937-505c-469a-9599-e55530bea31c"
      },
      "source": [
        "df.head()"
      ],
      "execution_count": 34,
      "outputs": [
        {
          "output_type": "execute_result",
          "data": {
            "text/html": [
              "<div>\n",
              "<style scoped>\n",
              "    .dataframe tbody tr th:only-of-type {\n",
              "        vertical-align: middle;\n",
              "    }\n",
              "\n",
              "    .dataframe tbody tr th {\n",
              "        vertical-align: top;\n",
              "    }\n",
              "\n",
              "    .dataframe thead th {\n",
              "        text-align: right;\n",
              "    }\n",
              "</style>\n",
              "<table border=\"1\" class=\"dataframe\">\n",
              "  <thead>\n",
              "    <tr style=\"text-align: right;\">\n",
              "      <th></th>\n",
              "      <th>fund_house</th>\n",
              "      <th>scheme_type</th>\n",
              "      <th>scheme_category</th>\n",
              "      <th>scheme_code</th>\n",
              "      <th>scheme_name</th>\n",
              "      <th>scheme_start_date__date</th>\n",
              "      <th>scheme_start_date__nav</th>\n",
              "      <th>data__date</th>\n",
              "      <th>data__nav</th>\n",
              "    </tr>\n",
              "  </thead>\n",
              "  <tbody>\n",
              "    <tr>\n",
              "      <th>0</th>\n",
              "      <td>SBI Mutual Fund</td>\n",
              "      <td>Open Ended Schemes</td>\n",
              "      <td>Equity Scheme - Large Cap Fund</td>\n",
              "      <td>119598.0</td>\n",
              "      <td>SBI BLUE CHIP FUND-DIRECT PLAN -GROWTH</td>\n",
              "      <td>02-01-2013</td>\n",
              "      <td>16.83</td>\n",
              "      <td>08-05-2020</td>\n",
              "      <td>34.0683</td>\n",
              "    </tr>\n",
              "    <tr>\n",
              "      <th>1</th>\n",
              "      <td>NaN</td>\n",
              "      <td>NaN</td>\n",
              "      <td>NaN</td>\n",
              "      <td>NaN</td>\n",
              "      <td>NaN</td>\n",
              "      <td>NaN</td>\n",
              "      <td>NaN</td>\n",
              "      <td>07-05-2020</td>\n",
              "      <td>33.9274</td>\n",
              "    </tr>\n",
              "    <tr>\n",
              "      <th>2</th>\n",
              "      <td>NaN</td>\n",
              "      <td>NaN</td>\n",
              "      <td>NaN</td>\n",
              "      <td>NaN</td>\n",
              "      <td>NaN</td>\n",
              "      <td>NaN</td>\n",
              "      <td>NaN</td>\n",
              "      <td>06-05-2020</td>\n",
              "      <td>34.2533</td>\n",
              "    </tr>\n",
              "    <tr>\n",
              "      <th>3</th>\n",
              "      <td>NaN</td>\n",
              "      <td>NaN</td>\n",
              "      <td>NaN</td>\n",
              "      <td>NaN</td>\n",
              "      <td>NaN</td>\n",
              "      <td>NaN</td>\n",
              "      <td>NaN</td>\n",
              "      <td>05-05-2020</td>\n",
              "      <td>33.9496</td>\n",
              "    </tr>\n",
              "    <tr>\n",
              "      <th>4</th>\n",
              "      <td>NaN</td>\n",
              "      <td>NaN</td>\n",
              "      <td>NaN</td>\n",
              "      <td>NaN</td>\n",
              "      <td>NaN</td>\n",
              "      <td>NaN</td>\n",
              "      <td>NaN</td>\n",
              "      <td>04-05-2020</td>\n",
              "      <td>34.2619</td>\n",
              "    </tr>\n",
              "  </tbody>\n",
              "</table>\n",
              "</div>"
            ],
            "text/plain": [
              "        fund_house         scheme_type  ...  data__date  data__nav\n",
              "0  SBI Mutual Fund  Open Ended Schemes  ...  08-05-2020    34.0683\n",
              "1              NaN                 NaN  ...  07-05-2020    33.9274\n",
              "2              NaN                 NaN  ...  06-05-2020    34.2533\n",
              "3              NaN                 NaN  ...  05-05-2020    33.9496\n",
              "4              NaN                 NaN  ...  04-05-2020    34.2619\n",
              "\n",
              "[5 rows x 9 columns]"
            ]
          },
          "metadata": {
            "tags": []
          },
          "execution_count": 34
        }
      ]
    },
    {
      "cell_type": "code",
      "metadata": {
        "id": "_HZlZJR3xJZE",
        "colab_type": "code",
        "colab": {}
      },
      "source": [
        ""
      ],
      "execution_count": 0,
      "outputs": []
    }
  ]
}