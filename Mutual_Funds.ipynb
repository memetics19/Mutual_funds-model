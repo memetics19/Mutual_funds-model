{
  "nbformat": 4,
  "nbformat_minor": 0,
  "metadata": {
    "colab": {
      "name": "Mutual Funds.ipynb",
      "provenance": [],
      "collapsed_sections": [],
      "include_colab_link": true
    },
    "kernelspec": {
      "name": "python3",
      "display_name": "Python 3"
    }
  },
  "cells": [
    {
      "cell_type": "markdown",
      "metadata": {
        "id": "view-in-github",
        "colab_type": "text"
      },
      "source": [
        "<a href=\"https://colab.research.google.com/github/memetics19/Mutual_funds-model/blob/master/Mutual_Funds.ipynb\" target=\"_parent\"><img src=\"https://colab.research.google.com/assets/colab-badge.svg\" alt=\"Open In Colab\"/></a>"
      ]
    },
    {
      "cell_type": "code",
      "metadata": {
        "id": "X3mFFxwXwg_k",
        "colab_type": "code",
        "colab": {}
      },
      "source": [
        "import pandas as pd \n"
      ],
      "execution_count": 0,
      "outputs": []
    },
    {
      "cell_type": "code",
      "metadata": {
        "id": "PUyW0uhIxFAO",
        "colab_type": "code",
        "colab": {}
      },
      "source": [
        "df=pd.read_csv(\"data(1).csv\")"
      ],
      "execution_count": 0,
      "outputs": []
    },
    {
      "cell_type": "code",
      "metadata": {
        "id": "VmIT26hbxAZ5",
        "colab_type": "code",
        "outputId": "418258c6-2c26-42da-ef06-bddb28f26f68",
        "colab": {
          "base_uri": "https://localhost:8080/",
          "height": 87
        }
      },
      "source": [
        "df.columns\n"
      ],
      "execution_count": 0,
      "outputs": [
        {
          "output_type": "execute_result",
          "data": {
            "text/plain": [
              "Index(['fund_house', 'scheme_type', 'scheme_category', 'scheme_code',\n",
              "       'scheme_name', 'scheme_start_date__date', 'scheme_start_date__nav',\n",
              "       'data__date', 'data__nav'],\n",
              "      dtype='object')"
            ]
          },
          "metadata": {
            "tags": []
          },
          "execution_count": 5
        }
      ]
    },
    {
      "cell_type": "code",
      "metadata": {
        "id": "_HZlZJR3xJZE",
        "colab_type": "code",
        "colab": {}
      },
      "source": [
        "# drop fund_housescheme_typescheme_categoryscheme_codescheme_name\n",
        "df = df.drop(df[[\"fund_house\",\"scheme_type\",\"scheme_category\",\"scheme_code\",\"scheme_name\"]],axis=1)\n",
        "\n",
        "df=df.dropna(axis=0)"
      ],
      "execution_count": 0,
      "outputs": []
    },
    {
      "cell_type": "code",
      "metadata": {
        "id": "mAOh1y7H44PC",
        "colab_type": "code",
        "outputId": "c2956ca9-811f-4766-8fa8-721a4986f182",
        "colab": {
          "base_uri": "https://localhost:8080/",
          "height": 77
        }
      },
      "source": [
        "df.head()"
      ],
      "execution_count": 0,
      "outputs": [
        {
          "output_type": "execute_result",
          "data": {
            "text/html": [
              "<div>\n",
              "<style scoped>\n",
              "    .dataframe tbody tr th:only-of-type {\n",
              "        vertical-align: middle;\n",
              "    }\n",
              "\n",
              "    .dataframe tbody tr th {\n",
              "        vertical-align: top;\n",
              "    }\n",
              "\n",
              "    .dataframe thead th {\n",
              "        text-align: right;\n",
              "    }\n",
              "</style>\n",
              "<table border=\"1\" class=\"dataframe\">\n",
              "  <thead>\n",
              "    <tr style=\"text-align: right;\">\n",
              "      <th></th>\n",
              "      <th>scheme_start_date__date</th>\n",
              "      <th>scheme_start_date__nav</th>\n",
              "      <th>data__date</th>\n",
              "      <th>data__nav</th>\n",
              "    </tr>\n",
              "  </thead>\n",
              "  <tbody>\n",
              "    <tr>\n",
              "      <th>0</th>\n",
              "      <td>02-01-2013</td>\n",
              "      <td>16.83</td>\n",
              "      <td>08-05-2020</td>\n",
              "      <td>34.0683</td>\n",
              "    </tr>\n",
              "  </tbody>\n",
              "</table>\n",
              "</div>"
            ],
            "text/plain": [
              "  scheme_start_date__date  scheme_start_date__nav  data__date  data__nav\n",
              "0              02-01-2013                   16.83  08-05-2020    34.0683"
            ]
          },
          "metadata": {
            "tags": []
          },
          "execution_count": 7
        }
      ]
    },
    {
      "cell_type": "code",
      "metadata": {
        "id": "0FXAPKw17Fvz",
        "colab_type": "code",
        "colab": {}
      },
      "source": [
        "#df[\"returns\"]=((df[\"scheme_start_date__nav\"]-df[\"data__nav\"])/df[\"data__nav\"])*100\n",
        "df[\"returns\"]=((df[\"data__nav\"]-df[\"scheme_start_date__nav\"])/df[\"scheme_start_date__nav\"])*100"
      ],
      "execution_count": 0,
      "outputs": []
    },
    {
      "cell_type": "code",
      "metadata": {
        "id": "iFIituMd7pDf",
        "colab_type": "code",
        "outputId": "e0b780ca-7b35-4521-f2f3-bc6560a30146",
        "colab": {
          "base_uri": "https://localhost:8080/",
          "height": 77
        }
      },
      "source": [
        "df.head()"
      ],
      "execution_count": 0,
      "outputs": [
        {
          "output_type": "execute_result",
          "data": {
            "text/html": [
              "<div>\n",
              "<style scoped>\n",
              "    .dataframe tbody tr th:only-of-type {\n",
              "        vertical-align: middle;\n",
              "    }\n",
              "\n",
              "    .dataframe tbody tr th {\n",
              "        vertical-align: top;\n",
              "    }\n",
              "\n",
              "    .dataframe thead th {\n",
              "        text-align: right;\n",
              "    }\n",
              "</style>\n",
              "<table border=\"1\" class=\"dataframe\">\n",
              "  <thead>\n",
              "    <tr style=\"text-align: right;\">\n",
              "      <th></th>\n",
              "      <th>scheme_start_date__date</th>\n",
              "      <th>scheme_start_date__nav</th>\n",
              "      <th>data__date</th>\n",
              "      <th>data__nav</th>\n",
              "      <th>returns</th>\n",
              "    </tr>\n",
              "  </thead>\n",
              "  <tbody>\n",
              "    <tr>\n",
              "      <th>0</th>\n",
              "      <td>02-01-2013</td>\n",
              "      <td>16.83</td>\n",
              "      <td>08-05-2020</td>\n",
              "      <td>34.0683</td>\n",
              "      <td>102.426025</td>\n",
              "    </tr>\n",
              "  </tbody>\n",
              "</table>\n",
              "</div>"
            ],
            "text/plain": [
              "  scheme_start_date__date  scheme_start_date__nav  ... data__nav     returns\n",
              "0              02-01-2013                   16.83  ...   34.0683  102.426025\n",
              "\n",
              "[1 rows x 5 columns]"
            ]
          },
          "metadata": {
            "tags": []
          },
          "execution_count": 9
        }
      ]
    }
  ]
}